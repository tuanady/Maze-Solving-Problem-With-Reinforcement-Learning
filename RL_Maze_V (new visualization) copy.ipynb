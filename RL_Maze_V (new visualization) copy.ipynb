{
 "cells": [
  {
   "cell_type": "code",
   "execution_count": 1,
   "metadata": {},
   "outputs": [],
   "source": [
    "import numpy as np\n",
    "import matplotlib.pyplot as plt\n",
    "\n",
    "# Create the maze environment\n",
    "maze = np.array([\n",
    "    [1, 1, 1, 1, 1, 1, 1, 1, 1, 1],\n",
    "    [1, 0, 1, 0, 0, 0, 1, 0, 0, 1],\n",
    "    [1, 0, 1, 0, 1, 0, 1, 0, 1, 1],\n",
    "    [1, 0, 0, 0, 1, 0, 0, 0, 0, 1],\n",
    "    [1, 1, 1, 0, 1, 1, 1, 1, 0, 1],\n",
    "    [1, 0, 1, 0, 0, 0, 0, 1, 0, 1],\n",
    "    [1, 0, 0, 0, 1, 1, 0, 0, 0, 1],\n",
    "    [1, 1, 1, 0, 1, 0, 1, 1, 0, 1],\n",
    "    [1, 0, 0, 0, 0, 0, 1, 0, 0, 1],\n",
    "    [1, 1, 1, 1, 1, 1, 1, 1, 1, 1]\n",
    "])\n",
    "MAZE_SIZE = maze.shape[0]\n",
    "\n",
    "# Start, sub-goal, and end goal positions\n",
    "start_position = (1, 1)\n",
    "sub_goal_position = (5, 3)\n",
    "end_goal_position = (7, 8)\n",
    "\n",
    "# Actions the agent can take: Up, Down, Left, Right\n",
    "actions = [(-1, 0), (1, 0), (0, -1), (0, 1)]\n"
   ]
  },
  {
   "cell_type": "code",
   "execution_count": 2,
   "metadata": {},
   "outputs": [],
   "source": [
    "gamma = 0.8         # Discount factor\n",
    "theta = 1e-5       # Convergence threshold\n",
    "\n",
    "# Initialize value function\n",
    "value_function = np.zeros(maze.shape)\n",
    "\n",
    "# Reward matrix\n",
    "reward_matrix = np.full(maze.shape, -1.0)  # Negative reward for each step\n",
    "reward_matrix[sub_goal_position] = 10.0    # Reward for reaching sub-goal\n",
    "reward_matrix[end_goal_position] = 500.0   # Reward for reaching end goal\n",
    "\n",
    "# Value Iteration Algorithm with metrics tracking\n",
    "def value_iteration():\n",
    "    global value_function\n",
    "    convergence_iterations = 0  # Initialize convergence iteration count\n",
    "    while True:\n",
    "        delta = 0  # Initialize maximum change in value function\n",
    "        convergence_iterations += 1  # Increment iteration count\n",
    "        # Iterate over all states\n",
    "        for x in range(MAZE_SIZE):\n",
    "            for y in range(MAZE_SIZE):\n",
    "                if maze[x, y] == 0:  # Only consider open cells\n",
    "                    v = value_function[x, y]  # Store current value\n",
    "                    # Calculate the value for each action\n",
    "                    action_values = []\n",
    "                    for action in actions:\n",
    "                        next_x, next_y = x + action[0], y + action[1]\n",
    "                        if 0 <= next_x < MAZE_SIZE and 0 <= next_y < MAZE_SIZE and maze[next_x, next_y] == 0:\n",
    "                            action_value = reward_matrix[next_x, next_y] + gamma * value_function[next_x, next_y]\n",
    "                        else:\n",
    "                            action_value = -100.0  # Penalty for hitting a wall or going out of bounds\n",
    "                        action_values.append(action_value)\n",
    "\n",
    "                    # Update value function\n",
    "                    value_function[x, y] = max(action_values)\n",
    "                    # Update delta for convergence check\n",
    "                    delta = max(delta, abs(v - value_function[x, y]))\n",
    "        \n",
    "        # Check for convergence\n",
    "        if delta < theta:\n",
    "            break\n",
    "            \n",
    "    return convergence_iterations  # Return the number of iterations for convergence\n",
    "\n",
    "# Run value iteration\n",
    "convergence_speed = value_iteration()\n"
   ]
  },
  {
   "cell_type": "code",
   "execution_count": 3,
   "metadata": {},
   "outputs": [],
   "source": [
    "# Extract policy from the value function\n",
    "def extract_policy():\n",
    "    policy = np.full(maze.shape, -1)  # Policy initialization\n",
    "    for x in range(MAZE_SIZE):\n",
    "        for y in range(MAZE_SIZE):\n",
    "            if maze[x, y] == 0:  # Only consider open cells\n",
    "                action_values = []\n",
    "                for action in actions:\n",
    "                    next_x, next_y = x + action[0], y + action[1]\n",
    "                    if 0 <= next_x < MAZE_SIZE and 0 <= next_y < MAZE_SIZE and maze[next_x, next_y] == 0:\n",
    "                        action_value = reward_matrix[next_x, next_y] + gamma * value_function[next_x, next_y]\n",
    "                    else:\n",
    "                        action_value = -100.0  # Penalty for hitting a wall or going out of bounds\n",
    "                    action_values.append(action_value)\n",
    "                \n",
    "                # Find the best action based on the value function\n",
    "                best_action = np.argmax(action_values)\n",
    "                policy[x, y] = best_action\n",
    "    return policy\n",
    "\n",
    "optimal_policy = extract_policy()\n"
   ]
  },
  {
   "cell_type": "code",
   "execution_count": 4,
   "metadata": {},
   "outputs": [],
   "source": [
    "# Function to extract the optimal path from start to goal using the policy\n",
    "def extract_v_path(start, goal):\n",
    "    state = (start[0], start[1])\n",
    "    path = [state[:2]]\n",
    "    steps_to_sub_goal = 0  # Count steps to sub-goal\n",
    "    steps_to_end_goal = 0  # Count steps to end goal\n",
    "    \n",
    "    while state != goal:\n",
    "        action_idx = int(optimal_policy[state[0], state[1]])\n",
    "        action = actions[action_idx]\n",
    "        next_x = state[0] + action[0]\n",
    "        next_y = state[1] + action[1]\n",
    "        \n",
    "        if 0 <= next_x < MAZE_SIZE and 0 <= next_y < MAZE_SIZE and maze[next_x, next_y] == 0:\n",
    "            state = (next_x, next_y)\n",
    "            path.append(state)\n",
    "\n",
    "            # Check if the agent reached the sub-goal or end goal\n",
    "            if state == sub_goal_position:\n",
    "                steps_to_sub_goal = len(path)  # Count steps to sub-goal\n",
    "            if state == end_goal_position:\n",
    "                steps_to_end_goal = len(path)  # Count steps to end goal\n",
    "        else:\n",
    "            break  # Invalid move, stop the path\n",
    "\n",
    "    return path, steps_to_sub_goal, steps_to_end_goal\n"
   ]
  },
  {
   "cell_type": "code",
   "execution_count": 5,
   "metadata": {},
   "outputs": [
    {
     "name": "stdout",
     "output_type": "stream",
     "text": [
      "Optimal Path from Value Iteration: [(1, 1), (2, 1), (3, 1), (3, 2), (3, 3), (4, 3), (5, 3), (5, 4), (5, 5), (5, 6), (6, 6), (6, 7), (6, 8), (7, 8)]\n",
      "Steps to Sub-goal: 7\n",
      "Steps to End Goal: 14\n",
      "Convergence Speed (Iterations): 47\n"
     ]
    }
   ],
   "source": [
    "\n",
    "# Extract the path from start to end goal (sub-goal is included)\n",
    "full_v_path, steps_to_sub_goal, steps_to_end_goal = extract_v_path(start_position, end_goal_position)\n",
    "\n",
    "print(\"Optimal Path from Value Iteration:\", full_v_path) \n",
    "print(\"Steps to Sub-goal:\", steps_to_sub_goal)\n",
    "print(\"Steps to End Goal:\", steps_to_end_goal)\n",
    "print(\"Convergence Speed (Iterations):\", convergence_speed)\n"
   ]
  },
  {
   "cell_type": "code",
   "execution_count": 6,
   "metadata": {},
   "outputs": [
    {
     "data": {
      "image/png": "[encoded data removed]",
      "text/plain": [
       "<Figure size 1000x1000 with 1 Axes>"
      ]
     },
     "metadata": {},
     "output_type": "display_data"
    }
   ],
   "source": [
    "# Function to visualize the agent's path\n",
    "def visualize_path(path, title):\n",
    "    plt.figure(figsize=(10, 10))\n",
    "    plt.imshow(maze, cmap=\"gray_r\")\n",
    "    for (x, y) in path:\n",
    "        plt.text(y, x, '•', color='orange', ha='center', va='center', fontsize=10)\n",
    "    plt.text(start_position[1], start_position[0], 'S', color='green', ha='center', va='center', fontsize=20)\n",
    "    plt.text(sub_goal_position[1], sub_goal_position[0], 'G', color='blue', ha='center', va='center', fontsize=20)\n",
    "    plt.text(end_goal_position[1], end_goal_position[0], 'E', color='red', ha='center', va='center', fontsize=20)\n",
    "    plt.title(title)\n",
    "    plt.grid(True, which='both', color='black', linewidth=0.5)\n",
    "    plt.xticks(np.arange(-.5, MAZE_SIZE, 1), [])\n",
    "    plt.yticks(np.arange(-.5, MAZE_SIZE, 1), [])\n",
    "    \n",
    "    # Legend/map for a better visualization\n",
    "    labels = ['Wall', 'Open Path', 'Start', 'Sub-goal', 'End Goal', 'Agent Path']\n",
    "    colors = ['black', 'white', 'green', 'blue', 'red', 'orange']\n",
    "    patches = []\n",
    "\n",
    "    for i in range(len(labels)):\n",
    "        label = labels[i]\n",
    "        color = colors[i]\n",
    "        patch = plt.Line2D([0], [0], marker='o', color='w', label=label, markerfacecolor=color, markersize=10)\n",
    "        patches.append(patch)\n",
    "\n",
    "    plt.legend(handles=patches, loc='upper right', bbox_to_anchor=(1.3, 1))\n",
    "    \n",
    "    plt.show()\n",
    "\n",
    "# Visualize the path taken by the agent\n",
    "visualize_path(full_v_path, \"Optimal Path using Value Iteration\")\n",
    "\n"
   ]
  }
 ],
 "metadata": {
  "kernelspec": {
   "display_name": "Python 3",
   "language": "python",
   "name": "python3"
  },
  "language_info": {
   "codemirror_mode": {
    "name": "ipython",
    "version": 3
   },
   "file_extension": ".py",
   "mimetype": "text/x-python",
   "name": "python",
   "nbconvert_exporter": "python",
   "pygments_lexer": "ipython3",
   "version": "3.9.18"
  }
 },
 "nbformat": 4,
 "nbformat_minor": 2
}
