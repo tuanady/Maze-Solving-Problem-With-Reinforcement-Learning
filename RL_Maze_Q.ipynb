{
 "cells": [
  {
   "cell_type": "code",
   "execution_count": 277,
   "metadata": {},
   "outputs": [],
   "source": [
    "# Import necessary libraries\n",
    "import numpy as np\n",
    "import matplotlib.pyplot as plt\n",
    "\n",
    "# Create the maze environment\n",
    "maze = np.array([\n",
    "    [1, 1, 1, 1, 1, 1, 1, 1, 1, 1],  # 0\n",
    "    [1, 0, 1, 0, 0, 0, 1, 0, 0, 1],  # 1\n",
    "    [1, 0, 1, 0, 1, 0, 1, 0, 1, 1],  # 2\n",
    "    [1, 0, 0, 0, 1, 0, 0, 0, 0, 1],  # 3\n",
    "    [1, 1, 1, 0, 1, 1, 1, 1, 0, 1],  # 4\n",
    "    [1, 0, 1, 0, 0, 0, 0, 1, 0, 1],  # 5\n",
    "    [1, 0, 0, 0, 1, 1, 0, 0, 0, 1],  # 6\n",
    "    [1, 1, 1, 0, 1, 0, 1, 1, 0, 1],  # 7\n",
    "    [1, 0, 0, 0, 0, 0, 1, 0, 0, 1],  # 8\n",
    "    [1, 1, 1, 1, 1, 1, 1, 1, 1, 1]   # 9\n",
    "])\n",
    "MAZE_SIZE = maze.shape[0]\n",
    "\n",
    "# Start, sub-goal, and end goal positions\n",
    "start_position = (1, 1)       # S (Green)\n",
    "sub_goal_position = (5, 3)    # G (Blue)\n",
    "end_goal_position = (7, 8)    # E (Red)\n",
    "\n",
    "# Define actions the agent can take: Up, Down, Left, Right\n",
    "actions = [(-1, 0), (1, 0), (0, -1), (0, 1)]\n"
   ]
  },
  {
   "cell_type": "code",
   "execution_count": 278,
   "metadata": {},
   "outputs": [
    {
     "name": "stdout",
     "output_type": "stream",
     "text": [
      "Episode 100/2000 completed.\n",
      "Episode 200/2000 completed.\n",
      "Episode 300/2000 completed.\n",
      "Episode 400/2000 completed.\n",
      "Episode 500/2000 completed.\n",
      "Episode 600/2000 completed.\n",
      "Episode 700/2000 completed.\n",
      "Episode 800/2000 completed.\n",
      "Episode 900/2000 completed.\n",
      "Episode 1000/2000 completed.\n",
      "Episode 1100/2000 completed.\n",
      "Episode 1200/2000 completed.\n",
      "Episode 1300/2000 completed.\n",
      "Episode 1400/2000 completed.\n",
      "Episode 1500/2000 completed.\n",
      "Episode 1600/2000 completed.\n",
      "Episode 1700/2000 completed.\n",
      "Episode 1800/2000 completed.\n",
      "Episode 1900/2000 completed.\n",
      "Episode 2000/2000 completed.\n"
     ]
    }
   ],
   "source": [
    "\n",
    "# Parameters for Q-learning\n",
    "gamma = 0.8  # Discount factor\n",
    "alpha = 0.1  # Learning rate\n",
    "epsilon = 0.2  # Exploration rate\n",
    "episodes = 2000  # Number of episodes\n",
    "max_steps = 200  # Max steps per episode\n",
    "\n",
    "# Initialize Q-table (state-action values)\n",
    "Q = np.zeros((MAZE_SIZE, MAZE_SIZE, 2, len(actions)))\n",
    "\n",
    "# Reward matrix\n",
    "reward_matrix = np.full(maze.shape, -1.0)  # Negative reward for each step\n",
    "reward_matrix[sub_goal_position] = 10.0    # Reward for reaching sub-goal\n",
    "reward_matrix[end_goal_position] = 500.0    # Reward for reaching end goal\n",
    "\n",
    "# Variables to track evaluation metrics\n",
    "success_count = 0\n",
    "total_rewards = 0\n",
    "total_steps_to_sub_goal = 0\n",
    "total_steps_to_end_goal = 0\n",
    "successful_episodes = 0\n",
    "\n",
    "# Function to choose the next action using epsilon-greedy policy\n",
    "def epsilon_greedy(state):\n",
    "    if np.random.rand() < epsilon:\n",
    "        return np.random.randint(len(actions))  # Explore: random action\n",
    "    else:\n",
    "        return np.argmax(Q[state[0], state[1], int(state[2])])  # Exploit\n",
    "\n",
    "# Function to run Q-learning\n",
    "def q_learning():\n",
    "    global success_count, total_rewards, total_steps_to_sub_goal, total_steps_to_end_goal, successful_episodes\n",
    "    \n",
    "    for episode in range(episodes):\n",
    "        state = (start_position[0], start_position[1], False)  # Start state\n",
    "        visited_states = set()  # Set to track visited states\n",
    "        episode_reward = 0\n",
    "        steps_taken = 0\n",
    "        sub_goal_steps = 0  # Track steps to sub-goal\n",
    "        \n",
    "        subgoal_reached = False  # Track if sub-goal is reached for this episode\n",
    "\n",
    "        for step in range(max_steps):\n",
    "            action_idx = epsilon_greedy(state)\n",
    "            action = actions[action_idx]\n",
    "            next_x = state[0] + action[0]\n",
    "            next_y = state[1] + action[1]\n",
    "            \n",
    "            # Check if next_state is within bounds and not a wall\n",
    "            if 0 <= next_x < MAZE_SIZE and 0 <= next_y < MAZE_SIZE and maze[next_x, next_y] == 0:\n",
    "                # Prevent going back to previous states if subgoal is reached\n",
    "                if subgoal_reached and (next_x, next_y) in visited_states:\n",
    "                    reward = -100  # Penalize for trying to revisit states\n",
    "                else:\n",
    "                    visited_states.add((next_x, next_y))  # Mark this state as visited\n",
    "                    reward = reward_matrix[next_x, next_y]\n",
    "                    episode_reward += reward\n",
    "\n",
    "                    # If sub-goal is reached\n",
    "                    if (next_x, next_y) == sub_goal_position and not subgoal_reached:\n",
    "                        subgoal_reached = True  # Update the flag\n",
    "                        reward = 10.0  # Reward for reaching sub-goal\n",
    "                        sub_goal_steps = steps_taken + 1  # Capture steps to sub-goal\n",
    "                        total_steps_to_sub_goal += sub_goal_steps  # Accumulate sub-goal steps\n",
    "\n",
    "                    # If end goal is reached\n",
    "                    if (next_x, next_y) == end_goal_position:\n",
    "                        if subgoal_reached:\n",
    "                            reward = 500.0  # Reward for reaching end goal after sub-goal\n",
    "                            success_count += 1  # Count success\n",
    "                            successful_episodes += 1\n",
    "                            total_steps_to_end_goal += steps_taken + 1  # Include this step\n",
    "                            break\n",
    "                        else:\n",
    "                            reward = -100.0  # Penalty for trying to reach end goal before sub-goal\n",
    "\n",
    "                # Q-learning update rule\n",
    "                best_next_action = np.argmax(Q[next_x, next_y, int(subgoal_reached)])\n",
    "                td_target = reward + gamma * Q[next_x, next_y, int(subgoal_reached), best_next_action]\n",
    "                td_delta = td_target - Q[state[0], state[1], int(subgoal_reached), action_idx]\n",
    "                Q[state[0], state[1], int(subgoal_reached), action_idx] += alpha * td_delta\n",
    "                \n",
    "                state = (next_x, next_y, subgoal_reached)  # Move to next state\n",
    "                steps_taken += 1  # Count the number of steps\n",
    "                \n",
    "                # End episode if end goal is reached after sub-goal\n",
    "                if (next_x, next_y) == end_goal_position and subgoal_reached:\n",
    "                    break\n",
    "            else:\n",
    "                # Penalize hitting a wall or moving out of bounds\n",
    "                Q[state[0], state[1], int(subgoal_reached), action_idx] += alpha * (-100 + gamma * 0 - Q[state[0], state[1], int(subgoal_reached), action_idx])\n",
    "                \n",
    "        total_rewards += episode_reward\n",
    "        if (episode + 1) % 100 == 0:\n",
    "            print(f'Episode {episode + 1}/{episodes} completed.')\n",
    "\n",
    "# Run Q-learning\n",
    "q_learning()\n"
   ]
  },
  {
   "cell_type": "code",
   "execution_count": 279,
   "metadata": {},
   "outputs": [
    {
     "name": "stdout",
     "output_type": "stream",
     "text": [
      "Success Rate: 96.75%\n",
      "Average Reward: 482.77\n",
      "Average Steps to Sub-goal: 7.45\n",
      "Average Steps to End Goal: 15.61\n"
     ]
    }
   ],
   "source": [
    "# Calculate evaluation metrics\n",
    "success_rate = success_count / episodes\n",
    "average_reward = total_rewards / episodes\n",
    "average_steps_to_sub_goal = total_steps_to_sub_goal / successful_episodes if successful_episodes > 0 else 0\n",
    "average_steps_to_end_goal = total_steps_to_end_goal / successful_episodes if successful_episodes > 0 else 0\n",
    "\n",
    "# Print evaluation results\n",
    "print(f'Success Rate: {success_rate * 100:.2f}%')\n",
    "print(f'Average Reward: {average_reward:.2f}')\n",
    "print(f'Average Steps to Sub-goal: {average_steps_to_sub_goal:.2f}')\n",
    "print(f'Average Steps to End Goal: {average_steps_to_end_goal:.2f}')"
   ]
  },
  {
   "cell_type": "code",
   "execution_count": null,
   "metadata": {},
   "outputs": [],
   "source": []
  },
  {
   "cell_type": "code",
   "execution_count": 280,
   "metadata": {},
   "outputs": [
    {
     "name": "stdout",
     "output_type": "stream",
     "text": [
      "Optimal Path: [(1, 1), (2, 1), (3, 1), (3, 2), (3, 3), (4, 3), (5, 3), (5, 4), (5, 5), (5, 6), (6, 6), (6, 7), (6, 8), (7, 8)]\n"
     ]
    }
   ],
   "source": [
    "\n",
    "# Function to extract the optimal path from start to goal\n",
    "def extract_q_path(start, goal):\n",
    "    state = (start[0], start[1], False)\n",
    "    path = [state[:2]]\n",
    "    \n",
    "    for step in range(max_steps):\n",
    "        action_idx = np.argmax(Q[state[0], state[1], int(state[2])])\n",
    "        action = actions[action_idx]\n",
    "        next_x = state[0] + action[0]\n",
    "        next_y = state[1] + action[1]\n",
    "        subgoal_reached = state[2]\n",
    "        \n",
    "        if 0 <= next_x < MAZE_SIZE and 0 <= next_y < MAZE_SIZE and maze[next_x, next_y] == 0:\n",
    "            if (next_x, next_y) == sub_goal_position:\n",
    "                subgoal_reached = True\n",
    "            state = (next_x, next_y, subgoal_reached)\n",
    "            path.append((next_x, next_y))\n",
    "        else:\n",
    "            break  # Invalid move; stop the path\n",
    "        \n",
    "        if (next_x, next_y) == goal and subgoal_reached:\n",
    "            break  # Goal reached\n",
    "\n",
    "    return path\n",
    "\n",
    "# Extract the path from start to end goal (sub-goal is included)\n",
    "full_path = extract_q_path(start_position, end_goal_position)\n",
    "print(\"Optimal Path:\", full_path)\n"
   ]
  },
  {
   "cell_type": "code",
   "execution_count": 281,
   "metadata": {},
   "outputs": [
    {
     "data": {
      "image/png": "[encoded data removed]",
      "text/plain": [
       "<Figure size 1000x1000 with 1 Axes>"
      ]
     },
     "metadata": {},
     "output_type": "display_data"
    }
   ],
   "source": [
    "# Function to visualize the agent's path\n",
    "def visualize_path(path, title):\n",
    "    plt.figure(figsize=(10, 10))\n",
    "    plt.imshow(maze, cmap=\"gray_r\")\n",
    "    for (x, y) in path:\n",
    "        plt.text(y, x, '•', color='orange', ha='center', va='center', fontsize=10)\n",
    "    plt.text(start_position[1], start_position[0], 'S', color='green', ha='center', va='center', fontsize=20)\n",
    "    plt.text(sub_goal_position[1], sub_goal_position[0], 'G', color='blue', ha='center', va='center', fontsize=20)\n",
    "    plt.text(end_goal_position[1], end_goal_position[0], 'E', color='red', ha='center', va='center', fontsize=20)\n",
    "    plt.title(title)\n",
    "    plt.grid(True, which='both', color='black', linewidth=0.5)\n",
    "    plt.xticks(np.arange(-.5, MAZE_SIZE, 1), [])\n",
    "    plt.yticks(np.arange(-.5, MAZE_SIZE, 1), [])\n",
    "    plt.show()\n",
    "\n",
    "# Visualize the full path from start to end goal via sub-goal\n",
    "visualize_path(full_path, \"Path from Start to End Goal via Sub-goal\")\n",
    "\n",
    "# Print the number of steps to each goal\n",
    "steps_to_sub_goal = full_path.index(sub_goal_position) + 1 if sub_goal_position in full_path else None\n",
    "steps_to_end_goal = len(full_path)\n"
   ]
  },
  {
   "cell_type": "code",
   "execution_count": 282,
   "metadata": {},
   "outputs": [
    {
     "name": "stdout",
     "output_type": "stream",
     "text": [
      "Steps to Sub-goal: 7\n",
      "Steps to End Goal: 14\n"
     ]
    }
   ],
   "source": [
    "\n",
    "print(f\"Steps to Sub-goal: {steps_to_sub_goal}\")\n",
    "print(f\"Steps to End Goal: {steps_to_end_goal}\")\n"
   ]
  }
 ],
 "metadata": {
  "kernelspec": {
   "display_name": "Python 3",
   "language": "python",
   "name": "python3"
  },
  "language_info": {
   "codemirror_mode": {
    "name": "ipython",
    "version": 3
   },
   "file_extension": ".py",
   "mimetype": "text/x-python",
   "name": "python",
   "nbconvert_exporter": "python",
   "pygments_lexer": "ipython3",
   "version": "3.12.3"
  },
  "orig_nbformat": 4
 },
 "nbformat": 4,
 "nbformat_minor": 2
}
