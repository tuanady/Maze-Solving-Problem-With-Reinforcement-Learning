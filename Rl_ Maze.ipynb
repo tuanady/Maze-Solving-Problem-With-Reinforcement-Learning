{
 "cells": [
  {
   "cell_type": "code",
   "execution_count": 9,
   "metadata": {},
   "outputs": [],
   "source": [
    "import numpy as np\n",
    "import matplotlib.pyplot as plt\n",
    "\n",
    "# Create the maze environment\n",
    "maze = np.array([\n",
    "    [1, 1, 1, 1, 1, 1, 1, 1, 1, 1],\n",
    "    [1, 0, 1, 0, 0, 0, 1, 0, 0, 1],\n",
    "    [1, 0, 1, 0, 1, 0, 1, 0, 1, 1],\n",
    "    [1, 0, 0, 0, 1, 0, 0, 0, 0, 1],\n",
    "    [1, 1, 1, 0, 1, 0, 1, 0, 0, 0],\n",
    "    [1, 0, 1, 0, 1, 0, 0, 1, 0, 1],\n",
    "    [1, 0, 0, 0, 1, 0, 1, 0, 0, 1],\n",
    "    [1, 1, 1, 0, 1, 0, 1, 1, 0, 1],\n",
    "    [1, 0, 0, 0, 1, 0, 0, 0, 0, 1],\n",
    "    [1, 1, 1, 1, 1, 1, 1, 1, 1, 1]\n",
    "])\n",
    "\n",
    "# S (start), G (sub-goal), E (end goal) positions in the maze\n",
    "start_position = (1, 1)       # S (Green)\n",
    "sub_goal_position = (5, 7)    # G (Blue)\n",
    "end_goal_position = (8, 8)     # E (Red)\n",
    "\n",
    "# Define the actions the agent can take: Up, Down, Left, Right\n",
    "actions = [(-1, 0), (1, 0), (0, -1), (0, 1)]\n",
    "\n",
    "# Set the start, sub-goal, and end-goal positions as open paths (passable)\n",
    "maze[start_position] = 0\n",
    "maze[sub_goal_position] = 0\n",
    "maze[end_goal_position] = 0\n"
   ]
  },
  {
   "cell_type": "code",
   "execution_count": 10,
   "metadata": {},
   "outputs": [],
   "source": [
    "\n",
    "# Value Iteration parameters\n",
    "gamma = 0.9  # Discount factor\n",
    "theta = 1e-6  # Convergence threshold\n",
    "\n",
    "# Initialize value function\n",
    "value_matrix = np.zeros(maze.shape)\n",
    "\n",
    "# Reward matrix definition\n",
    "reward_matrix = np.full(maze.shape, -1.0)  # Default negative reward for each step\n",
    "reward_matrix[sub_goal_position] = 10.0  # Reward for reaching sub-goal\n",
    "reward_matrix[end_goal_position] = 50.0  # Reward for reaching end goal\n"
   ]
  },
  {
   "cell_type": "code",
   "execution_count": 11,
   "metadata": {},
   "outputs": [
    {
     "name": "stdout",
     "output_type": "stream",
     "text": [
      "Value iteration converged after 92 iterations.\n"
     ]
    }
   ],
   "source": [
    "\n",
    "# Function to perform Value Iteration\n",
    "def value_iteration():\n",
    "    global value_matrix\n",
    "    \n",
    "    iteration = 0\n",
    "    while True:\n",
    "        delta = 0  # Change in value function\n",
    "        iteration += 1\n",
    "\n",
    "        for x in range(maze.shape[0]):\n",
    "            for y in range(maze.shape[1]):\n",
    "                if maze[x, y] == 0:  # If it is an open path\n",
    "                    v = value_matrix[x, y]  # Old value\n",
    "                    best_value = float('-inf')\n",
    "\n",
    "                    # Check all possible next states\n",
    "                    for action in actions:\n",
    "                        next_state = (x + action[0], y + action[1])\n",
    "                        if 0 <= next_state[0] < maze.shape[0] and 0 <= next_state[1] < maze.shape[1]:  # Stay within bounds\n",
    "                            reward = reward_matrix[next_state]  # Get reward for the next state\n",
    "                            best_value = max(best_value, reward + gamma * value_matrix[next_state])  # Calculate the best value\n",
    "\n",
    "                    value_matrix[x, y] = best_value  # Update value matrix\n",
    "                    delta = max(delta, abs(v - value_matrix[x, y]))  # Update delta for convergence check\n",
    "\n",
    "        # Check for convergence\n",
    "        if delta < theta:\n",
    "            print(f\"Value iteration converged after {iteration} iterations.\")\n",
    "            break\n",
    "\n",
    "# Run Value Iteration\n",
    "value_iteration()\n",
    "\n",
    "# Function to extract the optimal path from start to goal\n",
    "def extract_path(start, goal):\n",
    "    current = start\n",
    "    path = [current]\n",
    "    max_steps = 100  # Limit steps to prevent infinite loops\n",
    "    steps = 0\n",
    "\n",
    "    while current != goal and steps < max_steps:\n",
    "        next_state = None\n",
    "        max_value = float('-inf')\n",
    "\n",
    "        # Check all possible next states\n",
    "        for action in actions:\n",
    "            new_state = (current[0] + action[0], current[1] + action[1])\n",
    "            if (0 <= new_state[0] < maze.shape[0] and \n",
    "                0 <= new_state[1] < maze.shape[1] and \n",
    "                maze[new_state] == 0):  # Only consider valid moves\n",
    "                if value_matrix[new_state] > max_value:\n",
    "                    max_value = value_matrix[new_state]\n",
    "                    next_state = new_state\n",
    "\n",
    "        if next_state is None:  # No valid next state found\n",
    "            print(\"No path found.\")\n",
    "            break\n",
    "        \n",
    "        path.append(next_state)\n",
    "        current = next_state\n",
    "        steps += 1\n",
    "\n",
    "    return path\n",
    "\n",
    "# Extract the path to the sub-goal and end-goal\n",
    "path_to_sub_goal = extract_path(start_position, sub_goal_position)\n",
    "path_to_end_goal = extract_path(sub_goal_position, end_goal_position)\n"
   ]
  },
  {
   "cell_type": "code",
   "execution_count": 12,
   "metadata": {},
   "outputs": [
    {
     "data": {
      "image/png": "[encoded data removed]",
      "text/plain": [
       "<Figure size 800x800 with 1 Axes>"
      ]
     },
     "metadata": {},
     "output_type": "display_data"
    },
    {
     "name": "stdout",
     "output_type": "stream",
     "text": [
      "Steps to Sub-goal: 15\n",
      "Steps to End Goal: 5\n"
     ]
    }
   ],
   "source": [
    "\n",
    "# Function to visualize the agent's path\n",
    "def visualize_paths(paths):\n",
    "    maze_copy = maze.copy()\n",
    "    \n",
    "    # Mark the start, sub-goal, and end-goal positions\n",
    "    maze_copy[start_position] = 2  # Start (Green)\n",
    "    maze_copy[sub_goal_position] = 3  # Sub-goal (Blue)\n",
    "    maze_copy[end_goal_position] = 4  # End Goal (Red)\n",
    "\n",
    "    for path in paths:\n",
    "        for step in path:\n",
    "            maze_copy[step] = 5  # Path (Yellow)\n",
    "\n",
    "    # Create a color map\n",
    "    cmap = plt.cm.colors.ListedColormap(['black', 'white', 'green', 'blue', 'red', 'yellow'])\n",
    "    bounds = [0, 0.5, 1.5, 2.5, 3.5, 4.5]\n",
    "    norm = plt.cm.colors.BoundaryNorm(bounds, cmap.N)\n",
    "\n",
    "    # Visualize the maze with paths\n",
    "    plt.figure(figsize=(8, 8))\n",
    "    plt.imshow(maze_copy, cmap=cmap, norm=norm)\n",
    "    plt.xticks([])\n",
    "    plt.yticks([])\n",
    "    plt.title(\"Maze with Agent Paths\")\n",
    "    plt.show()\n",
    "\n",
    "# Visualize the paths\n",
    "visualize_paths([path_to_sub_goal, path_to_end_goal])\n",
    "\n",
    "# Print the number of steps to each goal\n",
    "print(f\"Steps to Sub-goal: {len(path_to_sub_goal)}\")\n",
    "print(f\"Steps to End Goal: {len(path_to_end_goal)}\")\n"
   ]
  }
 ],
 "metadata": {
  "kernelspec": {
   "display_name": "base",
   "language": "python",
   "name": "python3"
  },
  "language_info": {
   "codemirror_mode": {
    "name": "ipython",
    "version": 3
   },
   "file_extension": ".py",
   "mimetype": "text/x-python",
   "name": "python",
   "nbconvert_exporter": "python",
   "pygments_lexer": "ipython3",
   "version": "3.9.18"
  },
  "orig_nbformat": 4
 },
 "nbformat": 4,
 "nbformat_minor": 2
}
